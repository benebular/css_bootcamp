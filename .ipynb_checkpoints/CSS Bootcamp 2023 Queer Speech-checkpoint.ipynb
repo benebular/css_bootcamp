{
 "cells": [
  {
   "cell_type": "markdown",
   "metadata": {},
   "source": [
    "# Starter Code for Exploring Accent and Identity"
   ]
  },
  {
   "cell_type": "markdown",
   "metadata": {},
   "source": [
    "## The first and most important step when using machine learning, and particularly in an unsupervised way, is establishing patterns in your data that don't overfit or underfit.\n",
    "\n",
    "## Here, we want the machine to learn to reduce dimensions based on clustering similar speakers based on the ratings the participants provided."
   ]
  },
  {
   "cell_type": "code",
   "execution_count": null,
   "metadata": {},
   "outputs": [],
   "source": [
    "# modules\n",
    "import sklearn\n",
    "import numpy as np\n",
    "import pandas as pd\n",
    "import os\n",
    "import sys\n",
    "import time\n",
    "import seaborn as sns\n",
    "import matplotlib.pyplot as plt\n",
    "import scipy.stats as stats\n",
    "from sklearn.pipeline import make_pipeline\n",
    "from sklearn.preprocessing import StandardScaler, LabelEncoder\n",
    "from sklearn.linear_model import LogisticRegression, Ridge\n",
    "from sklearn.model_selection import StratifiedKFold, GridSearchCV\n",
    "from sklearn.metrics import make_scorer, get_scorer, accuracy_score, confusion_matrix, classification_report\n",
    "from sklearn.decomposition import PCA\n",
    "from sklearn.cluster import KMeans\n",
    "from sklearn.impute import SimpleImputer\n",
    "from sklearn import datasets\n",
    "from sklearn.ensemble import RandomForestRegressor, RandomForestClassifier\n",
    "from sklearn.model_selection import cross_val_score\n",
    "from sklearn.inspection import permutation_importance"
   ]
  },
  {
   "cell_type": "code",
   "execution_count": null,
   "metadata": {},
   "outputs": [],
   "source": [
    "# setup directory and file location,\n",
    "# then read in the file and set a variable in the background so you don't alter the original\n",
    "\n",
    "dir = 'your dir'\n",
    "ratings_features_fname = os.path.join(dir, 'queer_data.csv')\n",
    "data = pd.read_csv(ratings_features_fname)\n",
    "data_orig = data"
   ]
  },
  {
   "cell_type": "markdown",
   "metadata": {},
   "source": [
    "### Choose from one of the three cells below to either plot the distortions, plot the silhouette scores, or simply run and plot the k-means model according to a number of clusters. The code may need to be broken up into a few different cells, but you shouldn't need more than what's shown below."
   ]
  },
  {
   "cell_type": "markdown",
   "metadata": {},
   "source": [
    "### For this cell, you may want to just set up the variables and explore the data a little bit to get a sense of the ratings, number of participants, conditions, and original WAV files before then clustering based on ratings."
   ]
  },
  {
   "cell_type": "code",
   "execution_count": null,
   "metadata": {},
   "outputs": [],
   "source": [
    "### K-means. Set up your training variables and values.\n",
    "print(\"K-Means clustering...\")\n",
    "x = data[['Participant','Rating_z_score','Condition','WAV']]\n",
    "x = x.pivot_table(index = ['WAV'], columns = 'Condition', values='Rating_z_score', aggfunc=np.mean)\n",
    "y = x.iloc[:, [0,1,2]].values\n",
    "\n",
    "\n",
    "# # Collecting the distortions into list to make the elbow plot\n",
    "distortions = []\n",
    "K = range(1,10)\n",
    "for k in K:\n",
    "     kmeanModel = KMeans(n_clusters=k)\n",
    "     kmeanModel.fit(y)\n",
    "     distortions.append(kmeanModel.inertia_)\n",
    "\n",
    "# Plotting the distortions for the elbow plot\n",
    "plt.figure(figsize=(16,8))\n",
    "plt.plot(K, distortions, 'bx-')\n",
    "plt.xlabel('k')\n",
    "plt.ylabel('Distortion')\n",
    "plt.title('The Elbow Method showing the optimal clusters')\n",
    "plt.savefig(os.path.join(fig_dir, 'kmeans_cluster_elbow.png'), bbox_inches='tight', dpi=300)\n",
    "plt.close()"
   ]
  },
  {
   "cell_type": "markdown",
   "metadata": {},
   "source": [
    "### For this cell, it may be helpful to just plot one cluster number rather than looping through multiple clusters to create a franken-graph."
   ]
  },
  {
   "cell_type": "code",
   "execution_count": null,
   "metadata": {},
   "outputs": [],
   "source": [
    "## Silhouette to establish cluster number\n",
    "from sklearn import datasets\n",
    "from sklearn.cluster import KMeans\n",
    "import yellowbrick\n",
    "import matplotlib.pyplot as plt\n",
    "from yellowbrick.cluster import SilhouetteVisualizer\n",
    "\n",
    "### plotting the silhouettes for multiple sizes of cluster numbers\n",
    "fig, ax = plt.subplots(3, 2, figsize=(15,8))\n",
    "for i in [2, 3, 4, 5, 6, 7]:\n",
    "    '''\n",
    "    Create KMeans instances for different number of clusters\n",
    "    '''\n",
    "    km = KMeans(n_clusters=i, init='k-means++', n_init=10, max_iter=100, random_state=42)\n",
    "    q, mod = divmod(i, 2)\n",
    "    '''\n",
    "    Create SilhouetteVisualizer instance with KMeans instance\n",
    "    Fit the visualizer\n",
    "    '''\n",
    "    visualizer = SilhouetteVisualizer(km, colors='yellowbrick', ax=ax[q-1][mod])\n",
    "    visualizer.fit(x)"
   ]
  },
  {
   "cell_type": "markdown",
   "metadata": {},
   "source": [
    "### For this cell, you don't need to specify color or labels at first. You can just plot your faovirite number of clusters and then adjust later."
   ]
  },
  {
   "cell_type": "code",
   "execution_count": null,
   "metadata": {
    "scrolled": false
   },
   "outputs": [],
   "source": [
    "# Define the model for 3 clusters\n",
    "kmeans_model = KMeans(n_clusters=3, random_state=42)\n",
    "# Fit into our dataset fit\n",
    "kmeans_predict = kmeans_model.fit_predict(y)\n",
    "x['kmeans_3_cluster'] = kmeans_predict\n",
    "\n",
    "# Visualising the clusters\n",
    "plt.scatter(y[kmeans_predict == 0, 0], y[kmeans_predict == 0, 1], s = 100, c = '#785EF0', label = 'SW')\n",
    "plt.scatter(y[kmeans_predict == 1, 0], y[kmeans_predict == 1, 1], s = 100, c = '#DC267F', label = 'QE')\n",
    "plt.scatter(y[kmeans_predict == 2, 0], y[kmeans_predict == 2, 1], s = 100, c = '#648FFF', label = 'SM')\n",
    "\n",
    "# Plotting the centroids of the clusters\n",
    "plt.scatter(kmeans_model.cluster_centers_[:, 0], kmeans_model.cluster_centers_[:,1], s = 100, c = 'black', label = 'Centroids')\n",
    "plt.legend()\n",
    "plt.title('K-Means: 3 Clusters from Participant Ratings')\n",
    "plt.savefig(os.path.join(fig_dir, 'kmeans_cluster_3.png'), bbox_inches='tight', dpi=300)\n",
    "plt.close()"
   ]
  },
  {
   "cell_type": "markdown",
   "metadata": {},
   "source": [
    "## Now that you have your clusters, you can start asking questions about who the clusters of speakers are, and what acoustic information in the signal contributed to listeners grouping the speakers this way."
   ]
  }
 ],
 "metadata": {
  "kernelspec": {
   "display_name": "Python 3",
   "language": "python",
   "name": "python3"
  },
  "language_info": {
   "codemirror_mode": {
    "name": "ipython",
    "version": 3
   },
   "file_extension": ".py",
   "mimetype": "text/x-python",
   "name": "python",
   "nbconvert_exporter": "python",
   "pygments_lexer": "ipython3",
   "version": "3.8.5"
  }
 },
 "nbformat": 4,
 "nbformat_minor": 4
}
